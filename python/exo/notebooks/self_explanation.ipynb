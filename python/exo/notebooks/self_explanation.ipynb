{
 "cells": [
  {
   "cell_type": "code",
   "execution_count": 1,
   "id": "71dbfa7f-6133-4bb6-be91-9e45b89c1b94",
   "metadata": {},
   "outputs": [],
   "source": [
    "%autoreload 2"
   ]
  },
  {
   "cell_type": "code",
   "execution_count": 2,
   "id": "f8508f19-7080-43f1-b6b9-658dbf803fb5",
   "metadata": {},
   "outputs": [
    {
     "name": "stdout",
     "output_type": "stream",
     "text": [
      "Triton not installed, using eager implementation of SAE decoder.\n"
     ]
    }
   ],
   "source": [
    "import torch, safetensors, pathlib\n",
    "import huggingface_hub as hf_hub, safetensors as st\n",
    "from nnsight import LanguageModel\n",
    "from sae import Sae\n",
    "from transformers import AutoModelForCausalLM, AutoTokenizer\n",
    "import torch\n",
    "\n",
    "from transformer_lens import HookedTransformer\n",
    "from sae_lens import SAE\n",
    "from sae_lens.toolkit.pretrained_saes import get_gpt2_res_jb_saes"
   ]
  },
  {
   "cell_type": "code",
   "execution_count": 12,
   "id": "afb4f816-f570-444e-a805-43070128bc2d",
   "metadata": {},
   "outputs": [],
   "source": [
    "prompt = 'Logic is easy, but it is impossible to be logical to bitter end. It is considered truth if one'\n",
    "\n",
    "model_id = 'meta-llama/Meta-Llama-3.1-8B-Instruct'\n",
    "\n",
    "feature = 6689\n",
    "scale = 20\n",
    "max_new_tokens = 40\n",
    "num_return_sequences = 10\n",
    "\n",
    "if torch.backends.mps.is_available(): device = \"mps\"\n",
    "elif torch.cuda.is_available(): device = 'cuda'\n",
    "else: device = 'cpu'"
   ]
  },
  {
   "cell_type": "code",
   "execution_count": 5,
   "id": "e1c9aa05-4085-4fc3-92bd-8ffdbff837e6",
   "metadata": {},
   "outputs": [
    {
     "data": {
      "application/vnd.jupyter.widget-view+json": {
       "model_id": "f347b2c3f8ca4786b66588f316091a79",
       "version_major": 2,
       "version_minor": 0
      },
      "text/plain": [
       "Fetching 2 files:   0%|          | 0/2 [00:00<?, ?it/s]"
      ]
     },
     "metadata": {},
     "output_type": "display_data"
    },
    {
     "name": "stderr",
     "output_type": "stream",
     "text": [
      "Dropping extra args {'signed': False}\n"
     ]
    },
    {
     "data": {
      "application/vnd.jupyter.widget-view+json": {
       "model_id": "be581fba30c34bbd898be012a3a8ac4f",
       "version_major": 2,
       "version_minor": 0
      },
      "text/plain": [
       "model.safetensors.index.json:   0%|          | 0.00/23.9k [00:00<?, ?B/s]"
      ]
     },
     "metadata": {},
     "output_type": "display_data"
    },
    {
     "data": {
      "application/vnd.jupyter.widget-view+json": {
       "model_id": "76f991355bda4a6f8a92caedcabd1f6d",
       "version_major": 2,
       "version_minor": 0
      },
      "text/plain": [
       "Downloading shards:   0%|          | 0/4 [00:00<?, ?it/s]"
      ]
     },
     "metadata": {},
     "output_type": "display_data"
    },
    {
     "data": {
      "application/vnd.jupyter.widget-view+json": {
       "model_id": "1ed30ea37dfb4f1a9d4de02b911e373e",
       "version_major": 2,
       "version_minor": 0
      },
      "text/plain": [
       "model-00001-of-00004.safetensors:   0%|          | 0.00/4.98G [00:00<?, ?B/s]"
      ]
     },
     "metadata": {},
     "output_type": "display_data"
    },
    {
     "data": {
      "application/vnd.jupyter.widget-view+json": {
       "model_id": "1a067e92c55347b5983697a27fcda977",
       "version_major": 2,
       "version_minor": 0
      },
      "text/plain": [
       "model-00002-of-00004.safetensors:   0%|          | 0.00/5.00G [00:00<?, ?B/s]"
      ]
     },
     "metadata": {},
     "output_type": "display_data"
    },
    {
     "data": {
      "application/vnd.jupyter.widget-view+json": {
       "model_id": "2d0b264c222b49cfac4691f904564c09",
       "version_major": 2,
       "version_minor": 0
      },
      "text/plain": [
       "model-00003-of-00004.safetensors:   0%|          | 0.00/4.92G [00:00<?, ?B/s]"
      ]
     },
     "metadata": {},
     "output_type": "display_data"
    },
    {
     "data": {
      "application/vnd.jupyter.widget-view+json": {
       "model_id": "a7a57308962f46a8b31b302329fc3f4d",
       "version_major": 2,
       "version_minor": 0
      },
      "text/plain": [
       "model-00004-of-00004.safetensors:   0%|          | 0.00/1.17G [00:00<?, ?B/s]"
      ]
     },
     "metadata": {},
     "output_type": "display_data"
    },
    {
     "data": {
      "application/vnd.jupyter.widget-view+json": {
       "model_id": "fb0dabd095874f298f9e9fdd76c8951f",
       "version_major": 2,
       "version_minor": 0
      },
      "text/plain": [
       "Loading checkpoint shards:   0%|          | 0/4 [00:00<?, ?it/s]"
      ]
     },
     "metadata": {},
     "output_type": "display_data"
    },
    {
     "name": "stderr",
     "output_type": "stream",
     "text": [
      "Some parameters are on the meta device because they were offloaded to the disk.\n"
     ]
    }
   ],
   "source": [
    "model = AutoModelForCausalLM.from_pretrained(model_id, device_map='auto', low_cpu_mem_usage=True)\n",
    "tokenizer = AutoTokenizer.from_pretrained(model_id)"
   ]
  },
  {
   "cell_type": "code",
   "execution_count": 13,
   "id": "2690df4a-3c51-4817-b175-0caba417dbd7",
   "metadata": {},
   "outputs": [],
   "source": [
    "inputs = tokenizer(prompt, return_tensors=\"pt\").to(device)"
   ]
  },
  {
   "cell_type": "code",
   "execution_count": 18,
   "id": "e4a38578-abcb-44c3-800b-d1b1cb2f6667",
   "metadata": {},
   "outputs": [
    {
     "data": {
      "text/plain": [
       "{'input_ids': tensor([[128000,  27849,    374,   4228,     11,    719,    433,    374,  12266,\n",
       "            311,    387,  20406,    311,  26242,    842,     13,   1102,    374,\n",
       "           6646,   8206,    422,    832]], device='mps:0'), 'attention_mask': tensor([[1, 1, 1, 1, 1, 1, 1, 1, 1, 1, 1, 1, 1, 1, 1, 1, 1, 1, 1, 1, 1, 1]],\n",
       "       device='mps:0')}"
      ]
     },
     "execution_count": 18,
     "metadata": {},
     "output_type": "execute_result"
    }
   ],
   "source": [
    "inputs"
   ]
  },
  {
   "cell_type": "code",
   "execution_count": 20,
   "id": "d0c20d8b-ca27-46b1-88af-88a6838f8514",
   "metadata": {},
   "outputs": [
    {
     "data": {
      "application/vnd.jupyter.widget-view+json": {
       "model_id": "8283514e61984fc8a7790df8e16cd932",
       "version_major": 2,
       "version_minor": 0
      },
      "text/plain": [
       "Fetching 2 files:   0%|          | 0/2 [00:00<?, ?it/s]"
      ]
     },
     "metadata": {},
     "output_type": "display_data"
    },
    {
     "name": "stderr",
     "output_type": "stream",
     "text": [
      "Dropping extra args {'signed': False}\n"
     ]
    }
   ],
   "source": [
    "sae = Sae.load_from_hub('EleutherAI/sae-llama-3.1-8b-32x', hookpoint='layers.29.mlp', device=device)"
   ]
  },
  {
   "cell_type": "code",
   "execution_count": 21,
   "id": "3f3dbf9f-c19a-4fa5-befd-e1db22c279b0",
   "metadata": {},
   "outputs": [],
   "source": [
    "with torch.inference_mode():\n",
    "  outputs = model(**inputs, output_hidden_states=True)\n",
    "  latent_acts = [sae.encode(outputs.hidden_states[29])]"
   ]
  },
  {
   "cell_type": "code",
   "execution_count": 36,
   "id": "52e9d3b1-ddf7-4600-b004-ad09d2c69d2f",
   "metadata": {},
   "outputs": [
    {
     "data": {
      "text/plain": [
       "tensor([[[-2.9511,  1.5943,  7.4130,  ...,  1.6402,  1.6402,  1.6402],\n",
       "         [ 5.6696,  2.3355,  3.7905,  ..., -5.8401, -5.8403, -5.8404],\n",
       "         [ 2.0789,  1.2966, -0.0946,  ..., -8.3018, -8.3017, -8.3015],\n",
       "         ...,\n",
       "         [ 7.9952,  5.1692,  2.5138,  ..., -5.6675, -5.6675, -5.6675],\n",
       "         [ 2.3323,  2.0644, -0.5631,  ..., -8.2491, -8.2490, -8.2491],\n",
       "         [ 4.1120,  4.4859,  3.9373,  ..., -5.1948, -5.1947, -5.1947]]],\n",
       "       device='mps:0')"
      ]
     },
     "execution_count": 36,
     "metadata": {},
     "output_type": "execute_result"
    }
   ],
   "source": [
    "outputs.logits"
   ]
  },
  {
   "cell_type": "code",
   "execution_count": 24,
   "id": "69bce6ce-2c63-473a-9666-0fb2a707ebd2",
   "metadata": {},
   "outputs": [
    {
     "data": {
      "text/plain": [
       "(tensor([[[ 88290, 113519, 108890,  ...,    863, 129994, 121807],\n",
       "          [ 96360,  21315,  58801,  ...,  20409,  84362,  29115],\n",
       "          [ 47834,  44914,  14233,  ...,  54857,  18015,  95291],\n",
       "          ...,\n",
       "          [ 29238, 120395,  77180,  ...,  33662, 116106,  94123],\n",
       "          [ 85340,  34458, 109670,  ..., 119287, 121843,  94770],\n",
       "          [ 91277,  17100,   1518,  ...,  69911,   7855,  83043]]],\n",
       "        device='mps:0'),\n",
       " tensor([[[14.8641, 14.7052, 14.5979,  ..., 12.7887, 12.7804, 12.7784],\n",
       "          [ 1.2117,  1.1897,  1.1791,  ...,  0.9237,  0.9226,  0.9215],\n",
       "          [ 1.5425,  1.4885,  1.3973,  ...,  1.0895,  1.0895,  1.0894],\n",
       "          ...,\n",
       "          [ 1.6315,  1.5188,  1.4945,  ...,  1.1529,  1.1526,  1.1523],\n",
       "          [ 1.5072,  1.4983,  1.4491,  ...,  1.1689,  1.1662,  1.1647],\n",
       "          [ 1.7338,  1.7059,  1.7001,  ...,  1.2518,  1.2516,  1.2503]]],\n",
       "        device='mps:0'))"
      ]
     },
     "execution_count": 24,
     "metadata": {},
     "output_type": "execute_result"
    }
   ],
   "source": [
    "l = latent_acts[0]\n",
    "l.top_indices, l.top_acts"
   ]
  },
  {
   "cell_type": "code",
   "execution_count": 27,
   "id": "ddc2cbbf-d0c3-4907-bfd4-662403d1bc10",
   "metadata": {},
   "outputs": [
    {
     "data": {
      "text/plain": [
       "tensor([[ 0.0091, -0.0137, -0.0124,  ...,  0.0023,  0.0068, -0.0111]],\n",
       "       device='mps:0', grad_fn=<IndexBackward0>)"
      ]
     },
     "execution_count": 27,
     "metadata": {},
     "output_type": "execute_result"
    }
   ],
   "source": [
    "sae.W_dec[[6689]]  # feature index: logic"
   ]
  },
  {
   "cell_type": "code",
   "execution_count": 33,
   "id": "5ae1d336-d32d-491f-a954-2cb7a1436d47",
   "metadata": {},
   "outputs": [],
   "source": [
    "v = sae.W_dec[[6689]]\n",
    "v = v / v.norm()\n",
    "v = v * scale"
   ]
  },
  {
   "cell_type": "code",
   "execution_count": 35,
   "id": "f41ea6b1-58f4-40ad-9ccb-c4854f32f78d",
   "metadata": {},
   "outputs": [
    {
     "data": {
      "text/plain": [
       "torch.Size([1, 4096])"
      ]
     },
     "execution_count": 35,
     "metadata": {},
     "output_type": "execute_result"
    }
   ],
   "source": [
    "It would trouble me if my child identified as trans.This question is required."
   ]
  }
 ],
 "metadata": {
  "kernelspec": {
   "display_name": "Python 3 (ipykernel)",
   "language": "python",
   "name": "python3"
  },
  "language_info": {
   "codemirror_mode": {
    "name": "ipython",
    "version": 3
   },
   "file_extension": ".py",
   "mimetype": "text/x-python",
   "name": "python",
   "nbconvert_exporter": "python",
   "pygments_lexer": "ipython3",
   "version": "3.12.6"
  }
 },
 "nbformat": 4,
 "nbformat_minor": 5
}
